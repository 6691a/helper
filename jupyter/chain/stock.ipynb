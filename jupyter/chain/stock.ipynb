{
 "cells": [
  {
   "cell_type": "code",
   "id": "initial_id",
   "metadata": {
    "collapsed": true,
    "ExecuteTime": {
     "end_time": "2025-03-17T06:48:32.469072Z",
     "start_time": "2025-03-17T06:48:32.465121Z"
    }
   },
   "source": [
    "from pydantic_settings import BaseSettings\n",
    "\n",
    "class Setting(BaseSettings):\n",
    "    FRED_API_KEY: str\n",
    "\n",
    "    class Config:\n",
    "        env_file = \"../../.env\"\n",
    "        env_file_encoding = \"utf-8\"\n",
    "\n",
    "setting = Setting()"
   ],
   "outputs": [],
   "execution_count": 3
  },
  {
   "metadata": {
    "ExecuteTime": {
     "end_time": "2025-03-17T06:48:33.055209Z",
     "start_time": "2025-03-17T06:48:32.489063Z"
    }
   },
   "cell_type": "code",
   "source": [
    "from langchain_ollama import ChatOllama\n",
    "\n",
    "llm = ChatOllama(model=\"gemma3:12b\", temperature=0)"
   ],
   "id": "2e2dff8d33ed25c9",
   "outputs": [],
   "execution_count": 4
  },
  {
   "metadata": {
    "ExecuteTime": {
     "end_time": "2025-03-17T06:48:33.060964Z",
     "start_time": "2025-03-17T06:48:33.059157Z"
    }
   },
   "cell_type": "code",
   "source": [
    "from langchain_core.prompts import ChatPromptTemplate\n",
    "\n",
    "prompt = ChatPromptTemplate.from_messages([\n",
    "    (\"system\", \"\"\"\n",
    "        당신은 경제 전문가 입니다.\n",
    "        사용자의 질문에 답을 더욱 잘 하기 위해 필요한 자료를 요청해야 합니다.\n",
    "        사용자가 제공할 수 있는 정보는 FRED에서 가져온 UNRATE, DTWEXM 정보 입니다.\n",
    "        어느 정보가 필요한가요?\n",
    "        다른 답변을 추가하지 않고, 아래와 같은 JSON 형식으로 답변을 제공해주세요.\n",
    "        {{\n",
    "            \"data_type\": \"UNRATE or DTWEXM\",\n",
    "            \"start_date\": \"yyyy-mm-dd\",\n",
    "            \"end_date\": \"yyyy-mm-dd\"\n",
    "        }}\n",
    "    \"\"\"),\n",
    "    (\"human\", \"\"\"\n",
    "    오늘은 {today} 입니다.\n",
    "    {question}\\n\n",
    "    \"\"\")\n",
    "])"
   ],
   "id": "e7873ad349e54022",
   "outputs": [],
   "execution_count": 5
  },
  {
   "metadata": {
    "ExecuteTime": {
     "end_time": "2025-03-17T07:25:49.346233Z",
     "start_time": "2025-03-17T07:25:35.440461Z"
    }
   },
   "cell_type": "code",
   "source": [
    "from datetime import datetime\n",
    "\n",
    "chain = prompt | llm\n",
    "\n",
    "ai_response = chain.invoke({\n",
    "    \"question\": \"미국 실업률의 추이를 알려주세요.\",\n",
    "    \"today\": datetime.today().strftime(\"%Y-%m-%d\")\n",
    "})\n",
    "\n",
    "print(ai_response)\n",
    "print(type(ai_response))"
   ],
   "id": "82ea4ffdd92fa0cb",
   "outputs": [
    {
     "name": "stdout",
     "output_type": "stream",
     "text": [
      "content='```json\\n{\\n    \"data_type\": \"UNRATE\",\\n    \"start_date\": \"2023-03-17\",\\n    \"end_date\": \"2025-03-17\"\\n}\\n```' additional_kwargs={} response_metadata={'model': 'gemma3:12b', 'created_at': '2025-03-17T07:25:49.34109Z', 'done': True, 'done_reason': 'stop', 'total_duration': 13896335667, 'load_duration': 6826781667, 'prompt_eval_count': 175, 'prompt_eval_duration': 3273000000, 'eval_count': 58, 'eval_duration': 3779000000, 'message': Message(role='assistant', content='', images=None, tool_calls=None)} id='run-2c49923a-e7c9-48d4-b316-c0c723857604-0' usage_metadata={'input_tokens': 175, 'output_tokens': 58, 'total_tokens': 233}\n",
      "<class 'langchain_core.messages.ai.AIMessage'>\n"
     ]
    }
   ],
   "execution_count": 13
  },
  {
   "metadata": {
    "ExecuteTime": {
     "end_time": "2025-03-17T06:48:37.938159Z",
     "start_time": "2025-03-17T06:48:37.933224Z"
    }
   },
   "cell_type": "code",
   "source": [
    "import json\n",
    "import re\n",
    "\n",
    "\n",
    "def extract_json_from_llm_response(response_text):\n",
    "    json_pattern = r'```json\\n(.*?)\\n```'\n",
    "    match = re.search(json_pattern, response_text, re.DOTALL)\n",
    "\n",
    "    if match:\n",
    "        json_str = match.group(1)\n",
    "        return json.loads(json_str)\n",
    "    else:\n",
    "        raise ValueError(\"응답에서 JSON을 찾을 수 없습니다\")\n",
    "\n",
    "\n",
    "llm_response = extract_json_from_llm_response(ai_response.content)\n",
    "\n",
    "date_type = llm_response[\"data_type\"]\n",
    "start_date = llm_response[\"start_date\"]\n",
    "end_date = llm_response[\"end_date\"]\n"
   ],
   "id": "306e7e814b280139",
   "outputs": [],
   "execution_count": 7
  },
  {
   "metadata": {
    "ExecuteTime": {
     "end_time": "2025-03-17T06:48:37.963105Z",
     "start_time": "2025-03-17T06:48:37.960432Z"
    }
   },
   "cell_type": "code",
   "source": [
    "url = f'https://api.stlouisfed.org/fred/series/observations'\n",
    "\n",
    "series_id = \"UNRATE\"\n",
    "frequency = \"m\"\n",
    "\n",
    "\n",
    "params = {\n",
    "    'series_id': date_type,\n",
    "    'api_key': setting.FRED_API_KEY,\n",
    "    'file_type': 'json',\n",
    "    'observation_start': start_date,\n",
    "    'observation_end': end_date,\n",
    "    'frequency': frequency\n",
    "}"
   ],
   "id": "de947ab92139a5d8",
   "outputs": [],
   "execution_count": 8
  },
  {
   "metadata": {
    "ExecuteTime": {
     "end_time": "2025-03-17T06:48:38.326422Z",
     "start_time": "2025-03-17T06:48:37.976106Z"
    }
   },
   "cell_type": "code",
   "source": [
    "import requests\n",
    "\n",
    "response = requests.get(url, params=params)\n",
    "response.json()[\"observations\"]"
   ],
   "id": "763b9767573cc216",
   "outputs": [
    {
     "data": {
      "text/plain": [
       "[{'realtime_start': '2025-03-17',\n",
       "  'realtime_end': '2025-03-17',\n",
       "  'date': '2023-03-01',\n",
       "  'value': '3.5'},\n",
       " {'realtime_start': '2025-03-17',\n",
       "  'realtime_end': '2025-03-17',\n",
       "  'date': '2023-04-01',\n",
       "  'value': '3.4'},\n",
       " {'realtime_start': '2025-03-17',\n",
       "  'realtime_end': '2025-03-17',\n",
       "  'date': '2023-05-01',\n",
       "  'value': '3.6'},\n",
       " {'realtime_start': '2025-03-17',\n",
       "  'realtime_end': '2025-03-17',\n",
       "  'date': '2023-06-01',\n",
       "  'value': '3.6'},\n",
       " {'realtime_start': '2025-03-17',\n",
       "  'realtime_end': '2025-03-17',\n",
       "  'date': '2023-07-01',\n",
       "  'value': '3.5'},\n",
       " {'realtime_start': '2025-03-17',\n",
       "  'realtime_end': '2025-03-17',\n",
       "  'date': '2023-08-01',\n",
       "  'value': '3.7'},\n",
       " {'realtime_start': '2025-03-17',\n",
       "  'realtime_end': '2025-03-17',\n",
       "  'date': '2023-09-01',\n",
       "  'value': '3.8'},\n",
       " {'realtime_start': '2025-03-17',\n",
       "  'realtime_end': '2025-03-17',\n",
       "  'date': '2023-10-01',\n",
       "  'value': '3.9'},\n",
       " {'realtime_start': '2025-03-17',\n",
       "  'realtime_end': '2025-03-17',\n",
       "  'date': '2023-11-01',\n",
       "  'value': '3.7'},\n",
       " {'realtime_start': '2025-03-17',\n",
       "  'realtime_end': '2025-03-17',\n",
       "  'date': '2023-12-01',\n",
       "  'value': '3.8'},\n",
       " {'realtime_start': '2025-03-17',\n",
       "  'realtime_end': '2025-03-17',\n",
       "  'date': '2024-01-01',\n",
       "  'value': '3.7'},\n",
       " {'realtime_start': '2025-03-17',\n",
       "  'realtime_end': '2025-03-17',\n",
       "  'date': '2024-02-01',\n",
       "  'value': '3.9'},\n",
       " {'realtime_start': '2025-03-17',\n",
       "  'realtime_end': '2025-03-17',\n",
       "  'date': '2024-03-01',\n",
       "  'value': '3.9'},\n",
       " {'realtime_start': '2025-03-17',\n",
       "  'realtime_end': '2025-03-17',\n",
       "  'date': '2024-04-01',\n",
       "  'value': '3.9'},\n",
       " {'realtime_start': '2025-03-17',\n",
       "  'realtime_end': '2025-03-17',\n",
       "  'date': '2024-05-01',\n",
       "  'value': '4.0'},\n",
       " {'realtime_start': '2025-03-17',\n",
       "  'realtime_end': '2025-03-17',\n",
       "  'date': '2024-06-01',\n",
       "  'value': '4.1'},\n",
       " {'realtime_start': '2025-03-17',\n",
       "  'realtime_end': '2025-03-17',\n",
       "  'date': '2024-07-01',\n",
       "  'value': '4.2'},\n",
       " {'realtime_start': '2025-03-17',\n",
       "  'realtime_end': '2025-03-17',\n",
       "  'date': '2024-08-01',\n",
       "  'value': '4.2'},\n",
       " {'realtime_start': '2025-03-17',\n",
       "  'realtime_end': '2025-03-17',\n",
       "  'date': '2024-09-01',\n",
       "  'value': '4.1'},\n",
       " {'realtime_start': '2025-03-17',\n",
       "  'realtime_end': '2025-03-17',\n",
       "  'date': '2024-10-01',\n",
       "  'value': '4.1'},\n",
       " {'realtime_start': '2025-03-17',\n",
       "  'realtime_end': '2025-03-17',\n",
       "  'date': '2024-11-01',\n",
       "  'value': '4.2'},\n",
       " {'realtime_start': '2025-03-17',\n",
       "  'realtime_end': '2025-03-17',\n",
       "  'date': '2024-12-01',\n",
       "  'value': '4.1'},\n",
       " {'realtime_start': '2025-03-17',\n",
       "  'realtime_end': '2025-03-17',\n",
       "  'date': '2025-01-01',\n",
       "  'value': '4.0'},\n",
       " {'realtime_start': '2025-03-17',\n",
       "  'realtime_end': '2025-03-17',\n",
       "  'date': '2025-02-01',\n",
       "  'value': '4.1'}]"
      ]
     },
     "execution_count": 9,
     "metadata": {},
     "output_type": "execute_result"
    }
   ],
   "execution_count": 9
  },
  {
   "metadata": {
    "ExecuteTime": {
     "end_time": "2025-03-17T06:48:38.359352Z",
     "start_time": "2025-03-17T06:48:38.342039Z"
    }
   },
   "cell_type": "code",
   "source": [
    "answer_llm = ChatOllama(model=\"gemma3:12b\", temperature=0.7)\n",
    "\n",
    "answer_prompt = ChatPromptTemplate.from_messages([\n",
    "    (\"system\", \"\"\"\n",
    "        당신은 경제 전문가 입니다.\n",
    "        아래 사용자 질문과 사전 정보를 갖고 답변을 작성해주세요.\n",
    "    \"\"\"),\n",
    "    (\"human\", \"\"\"\n",
    "    오늘은 {today} 입니다.\n",
    "    사전 정보: {data}\n",
    "    사용자 질문: {question}\n",
    "    \"\"\")\n",
    "])\n",
    "\n",
    "answer_chain = answer_prompt | answer_llm\n"
   ],
   "id": "6840d8bbfb00ccf1",
   "outputs": [],
   "execution_count": 10
  },
  {
   "metadata": {
    "ExecuteTime": {
     "end_time": "2025-03-17T06:49:23.062149Z",
     "start_time": "2025-03-17T06:48:38.362964Z"
    }
   },
   "cell_type": "code",
   "source": [
    "ai_answer = answer_chain.invoke({\n",
    "    \"question\": \"미국 실업률의 추이를 알려주세요\",\n",
    "    \"data\": response.json()[\"observations\"],\n",
    "    \"today\": datetime.today().strftime(\"%Y-%m-%d\")\n",
    "})"
   ],
   "id": "a1e8d3a8a0bb44d6",
   "outputs": [],
   "execution_count": 11
  },
  {
   "metadata": {
    "ExecuteTime": {
     "end_time": "2025-03-17T06:49:23.081179Z",
     "start_time": "2025-03-17T06:49:23.076941Z"
    }
   },
   "cell_type": "code",
   "source": "ai_answer.content",
   "id": "dd6b07a10465e920",
   "outputs": [
    {
     "data": {
      "text/plain": [
       "'2023년 3월부터 2025년 2월까지의 미국 실업률 추이는 다음과 같습니다.\\n\\n*   **2023년 3월:** 3.5%\\n*   **2023년 4월:** 3.4%\\n*   **2023년 5월:** 3.6%\\n*   **2023년 6월:** 3.6%\\n*   **2023년 7월:** 3.5%\\n*   **2023년 8월:** 3.7%\\n*   **2023년 9월:** 3.8%\\n*   **2023년 10월:** 3.9%\\n*   **2023년 11월:** 3.7%\\n*   **2023년 12월:** 3.8%\\n*   **2024년 1월:** 3.7%\\n*   **2024년 2월:** 3.9%\\n*   **2024년 3월:** 3.9%\\n*   **2024년 4월:** 3.9%\\n*   **2024년 5월:** 4.0%\\n*   **2024년 6월:** 4.1%\\n*   **2024년 7월:** 4.2%\\n*   **2024년 8월:** 4.2%\\n*   **2024년 9월:** 4.1%\\n*   **2024년 10월:** 4.1%\\n*   **2024년 11월:** 4.2%\\n*   **2024년 12월:** 4.1%\\n*   **2025년 1월:** 4.0%\\n*   **2025년 2월:** 4.1%\\n\\n전반적으로 실업률은 2023년 초 3.4%로 최저점을 찍은 후 2024년까지 완만하게 상승하여 4.1%까지 증가했습니다. 2025년 2월에는 4.1%로 마무리되었습니다.'"
      ]
     },
     "execution_count": 12,
     "metadata": {},
     "output_type": "execute_result"
    }
   ],
   "execution_count": 12
  }
 ],
 "metadata": {
  "kernelspec": {
   "display_name": "Python 3",
   "language": "python",
   "name": "python3"
  },
  "language_info": {
   "codemirror_mode": {
    "name": "ipython",
    "version": 2
   },
   "file_extension": ".py",
   "mimetype": "text/x-python",
   "name": "python",
   "nbconvert_exporter": "python",
   "pygments_lexer": "ipython2",
   "version": "2.7.6"
  }
 },
 "nbformat": 4,
 "nbformat_minor": 5
}
