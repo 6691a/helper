{
 "cells": [
  {
   "cell_type": "code",
   "id": "initial_id",
   "metadata": {
    "collapsed": true,
    "ExecuteTime": {
     "end_time": "2025-03-17T08:39:55.185051Z",
     "start_time": "2025-03-17T08:39:54.847171Z"
    }
   },
   "source": [
    "import requests\n",
    "from pydantic_settings import BaseSettings\n",
    "from langchain_ollama import ChatOllama\n",
    "from langchain_core.messages import AIMessage\n",
    "from langgraph.constants import START, END\n",
    "from langgraph.graph import MessagesState, StateGraph\n",
    "from datetime import date\n",
    "\n",
    "\n",
    "class AgentState(MessagesState):\n",
    "    question: str\n",
    "    answer: str | None = None\n",
    "    context: str | None = None\n",
    "    identify_economic_data: dict | None = None\n",
    "\n",
    "class Setting(BaseSettings):\n",
    "    FRED_API_KEY: str\n",
    "\n",
    "    class Config:\n",
    "        env_file = \"../../.env\"\n",
    "        env_file_encoding = \"utf-8\"\n",
    "\n",
    "setting = Setting()\n",
    "\n",
    "graph_builder = StateGraph(AgentState)\n",
    "\n",
    "llm = ChatOllama(model=\"PetrosStav/gemma3-tools:12b\", temperature=0)"
   ],
   "outputs": [],
   "execution_count": 1
  },
  {
   "metadata": {
    "ExecuteTime": {
     "end_time": "2025-03-17T08:39:55.189768Z",
     "start_time": "2025-03-17T08:39:55.187601Z"
    }
   },
   "cell_type": "code",
   "source": [
    "from langgraph.types import Command\n",
    "from langchain_core.prompts import ChatPromptTemplate\n",
    "\n",
    "def supervisor_node(state: MessagesState) -> Command[Literal[*members, \"analyst\"]]:\n",
    "\n",
    "def identify_economic(state: AgentState):\n",
    "    prompt = ChatPromptTemplate.from_messages([\n",
    "        (\"system\", \"\"\"\n",
    "        당신은 경제 전문가 입니다.\n",
    "        사용자의 질문에 답을 더욱 잘 하기 위해 필요한 자료를 요청해야 합니다.\n",
    "        사용자가 제공할 수 있는 정보는 FRED에서 가져온 UNRATE, DTWEXM 정보 입니다.\n",
    "        어느 정보가 필요한가요?\n",
    "        다른 답변을 추가하지 않고, 아래와 같은 JSON 형식으로 답변을 제공해주세요.\n",
    "        {{\\\"series\\\": \\\"UNRATE or DTWEXM\\\", \\\"start_date\\\": \\\"yyyy-mm-dd\\\", \\\"end_date\\\": \\\"yyyy-mm-dd\\\"}}\n",
    "        \"\"\"),\n",
    "        (\"human\", \"질문을 한 시간은 {today} 입니다. {question}\\n\")\n",
    "    ])\n",
    "\n",
    "    chain = prompt | llm\n",
    "    response: AIMessage = chain.invoke({\n",
    "        \"question\": state[\"question\"],\n",
    "        \"today\": date.today(),\n",
    "    })\n",
    "    return {\"identify_economic_data\": response.content}\n",
    "\n",
    "def fred_data(state: AgentState):\n",
    "    url = f'https://api.stlouisfed.org/fred/series/observations'\n",
    "    state[\"identify_economic_data\"]\n",
    "    params = {\n",
    "        'series_id': date_type,\n",
    "        'api_key': setting.FRED_API_KEY,\n",
    "        'file_type': 'json',\n",
    "        'observation_start': start_date,\n",
    "        'observation_end': end_date,\n",
    "        'frequency': frequency\n",
    "    }\n"
   ],
   "id": "83c12a90ae3cbd52",
   "outputs": [],
   "execution_count": 2
  },
  {
   "metadata": {
    "ExecuteTime": {
     "end_time": "2025-03-17T08:39:55.258899Z",
     "start_time": "2025-03-17T08:39:55.255800Z"
    }
   },
   "cell_type": "code",
   "source": "graph_builder.add_node('identify_economic', identify_economic)",
   "id": "7a539cfd86f5c3ee",
   "outputs": [
    {
     "data": {
      "text/plain": [
       "<langgraph.graph.state.StateGraph at 0x107ff6fc0>"
      ]
     },
     "execution_count": 3,
     "metadata": {},
     "output_type": "execute_result"
    }
   ],
   "execution_count": 3
  },
  {
   "metadata": {
    "ExecuteTime": {
     "end_time": "2025-03-17T08:39:55.323744Z",
     "start_time": "2025-03-17T08:39:55.321831Z"
    }
   },
   "cell_type": "code",
   "source": [
    "graph_builder.add_edge(START, \"identify_economic\")\n",
    "graph_builder.add_edge(\"identify_economic\", END)"
   ],
   "id": "7a940999e3cbd1f8",
   "outputs": [
    {
     "data": {
      "text/plain": [
       "<langgraph.graph.state.StateGraph at 0x107ff6fc0>"
      ]
     },
     "execution_count": 4,
     "metadata": {},
     "output_type": "execute_result"
    }
   ],
   "execution_count": 4
  },
  {
   "metadata": {
    "ExecuteTime": {
     "end_time": "2025-03-17T08:39:55.392561Z",
     "start_time": "2025-03-17T08:39:55.389704Z"
    }
   },
   "cell_type": "code",
   "source": "graph = graph_builder.compile()",
   "id": "e705e613e8acfad2",
   "outputs": [],
   "execution_count": 5
  },
  {
   "metadata": {
    "ExecuteTime": {
     "end_time": "2025-03-17T08:40:08.602922Z",
     "start_time": "2025-03-17T08:39:55.399613Z"
    }
   },
   "cell_type": "code",
   "source": [
    "state = AgentState(\n",
    "    question=\"미국 실업률의 추이를 알려주세요.\"\n",
    ")\n",
    "graph.invoke(state)"
   ],
   "id": "596f4979900b8e02",
   "outputs": [
    {
     "data": {
      "text/plain": [
       "{'messages': [],\n",
       " 'question': '미국 실업률의 추이를 알려주세요.',\n",
       " 'identify_economic_data': '{\"data_type\": \"UNRATE\", \"start_date\": \"2020-01-01\", \"end_date\": \"2025-03-17\"}\\n'}"
      ]
     },
     "execution_count": 6,
     "metadata": {},
     "output_type": "execute_result"
    }
   ],
   "execution_count": 6
  }
 ],
 "metadata": {
  "kernelspec": {
   "display_name": "Python 3",
   "language": "python",
   "name": "python3"
  },
  "language_info": {
   "codemirror_mode": {
    "name": "ipython",
    "version": 2
   },
   "file_extension": ".py",
   "mimetype": "text/x-python",
   "name": "python",
   "nbconvert_exporter": "python",
   "pygments_lexer": "ipython2",
   "version": "2.7.6"
  }
 },
 "nbformat": 4,
 "nbformat_minor": 5
}
